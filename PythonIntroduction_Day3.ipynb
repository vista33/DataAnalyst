{
  "nbformat": 4,
  "nbformat_minor": 0,
  "metadata": {
    "colab": {
      "provenance": [],
      "gpuType": "T4",
      "authorship_tag": "ABX9TyNAe1jronU4ekIe8Wi+C3lP",
      "include_colab_link": true
    },
    "kernelspec": {
      "name": "python3",
      "display_name": "Python 3"
    },
    "language_info": {
      "name": "python"
    },
    "accelerator": "GPU"
  },
  "cells": [
    {
      "cell_type": "markdown",
      "metadata": {
        "id": "view-in-github",
        "colab_type": "text"
      },
      "source": [
        "<a href=\"https://colab.research.google.com/github/vista33/DataAnalyst/blob/main/PythonIntroduction_Day3.ipynb\" target=\"_parent\"><img src=\"https://colab.research.google.com/assets/colab-badge.svg\" alt=\"Open In Colab\"/></a>"
      ]
    },
    {
      "cell_type": "markdown",
      "source": [
        "1. Open Google Colab (done)"
      ],
      "metadata": {
        "id": "7wGQU3VQbflz"
      }
    },
    {
      "cell_type": "markdown",
      "source": [
        "2. Set the Google Colab Runtimes (done)"
      ],
      "metadata": {
        "id": "s3FXp8hVbU5D"
      }
    },
    {
      "cell_type": "markdown",
      "source": [
        "3. Use Command Terminal in Google Colab (done)"
      ],
      "metadata": {
        "id": "9XRltkRCbkKd"
      }
    },
    {
      "cell_type": "code",
      "source": [
        "# example: import pandas\n",
        "! pip install pandas"
      ],
      "metadata": {
        "colab": {
          "base_uri": "https://localhost:8080/"
        },
        "id": "WTGbYcPtbveT",
        "outputId": "4247a1c5-5a99-46b3-e8aa-30030b5cedc3"
      },
      "execution_count": 2,
      "outputs": [
        {
          "output_type": "stream",
          "name": "stdout",
          "text": [
            "Requirement already satisfied: pandas in /usr/local/lib/python3.11/dist-packages (2.2.2)\n",
            "Requirement already satisfied: numpy>=1.23.2 in /usr/local/lib/python3.11/dist-packages (from pandas) (2.0.2)\n",
            "Requirement already satisfied: python-dateutil>=2.8.2 in /usr/local/lib/python3.11/dist-packages (from pandas) (2.9.0.post0)\n",
            "Requirement already satisfied: pytz>=2020.1 in /usr/local/lib/python3.11/dist-packages (from pandas) (2025.2)\n",
            "Requirement already satisfied: tzdata>=2022.7 in /usr/local/lib/python3.11/dist-packages (from pandas) (2025.2)\n",
            "Requirement already satisfied: six>=1.5 in /usr/local/lib/python3.11/dist-packages (from python-dateutil>=2.8.2->pandas) (1.17.0)\n"
          ]
        }
      ]
    },
    {
      "cell_type": "markdown",
      "source": [
        "4. Clone a Repository in Google Colab (done)"
      ],
      "metadata": {
        "id": "WcyPg7-cb-gO"
      }
    },
    {
      "cell_type": "code",
      "source": [
        "# clone my own github\n",
        "! git clone https://github.com/vista33/DataAnalyst.git"
      ],
      "metadata": {
        "colab": {
          "base_uri": "https://localhost:8080/"
        },
        "id": "N4sXeMiqbLCL",
        "outputId": "7a167b07-e514-4510-f02f-02b6b848ed75"
      },
      "execution_count": 3,
      "outputs": [
        {
          "output_type": "stream",
          "name": "stdout",
          "text": [
            "Cloning into 'DataAnalyst'...\n",
            "remote: Enumerating objects: 10, done.\u001b[K\n",
            "remote: Counting objects: 100% (10/10), done.\u001b[K\n",
            "remote: Compressing objects: 100% (9/9), done.\u001b[K\n",
            "remote: Total 10 (delta 0), reused 0 (delta 0), pack-reused 0 (from 0)\u001b[K\n",
            "Receiving objects: 100% (10/10), 4.88 MiB | 11.84 MiB/s, done.\n"
          ]
        }
      ]
    },
    {
      "cell_type": "markdown",
      "source": [
        "5. Upload File and Data Collection (done)"
      ],
      "metadata": {
        "id": "5YgrZKm5dE8P"
      }
    },
    {
      "cell_type": "markdown",
      "source": [
        "6. Save Notebook (done)"
      ],
      "metadata": {
        "id": "GHe8Dpp8ezEF"
      }
    },
    {
      "cell_type": "code",
      "source": [
        "# download in my own PC\n",
        "# save a copy in Github"
      ],
      "metadata": {
        "id": "HEwS09i-e9Sr"
      },
      "execution_count": null,
      "outputs": []
    }
  ]
}